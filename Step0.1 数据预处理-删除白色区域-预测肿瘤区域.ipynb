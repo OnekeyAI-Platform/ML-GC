{
 "cells": [
  {
   "cell_type": "code",
   "execution_count": 7,
   "id": "03452a8b",
   "metadata": {},
   "outputs": [
    {
     "name": "stdout",
     "output_type": "stream",
     "text": [
      "25084\n"
     ]
    },
    {
     "name": "stderr",
     "output_type": "stream",
     "text": [
      "[2024-01-01 19:05:50 - eval_classification.py:  65]\tINFO\t正在预测中，已完成：1000, 完成率：3.9866%，移动平均速度是：18.8417 msec/img\n",
      "[2024-01-01 19:06:02 - eval_classification.py:  65]\tINFO\t正在预测中，已完成：2000, 完成率：7.9732%，移动平均速度是：15.4014 msec/img\n",
      "[2024-01-01 19:06:14 - eval_classification.py:  65]\tINFO\t正在预测中，已完成：3000, 完成率：11.9598%，移动平均速度是：14.2528 msec/img\n",
      "[2024-01-01 19:06:26 - eval_classification.py:  65]\tINFO\t正在预测中，已完成：4000, 完成率：15.9464%，移动平均速度是：13.6922 msec/img\n",
      "[2024-01-01 19:06:38 - eval_classification.py:  65]\tINFO\t正在预测中，已完成：5000, 完成率：19.9330%，移动平均速度是：13.3345 msec/img\n",
      "[2024-01-01 19:06:50 - eval_classification.py:  65]\tINFO\t正在预测中，已完成：6000, 完成率：23.9196%，移动平均速度是：13.0802 msec/img\n",
      "[2024-01-01 19:07:01 - eval_classification.py:  65]\tINFO\t正在预测中，已完成：7000, 完成率：27.9062%，移动平均速度是：12.9101 msec/img\n",
      "[2024-01-01 19:07:13 - eval_classification.py:  65]\tINFO\t正在预测中，已完成：8000, 完成率：31.8928%，移动平均速度是：12.7797 msec/img\n",
      "[2024-01-01 19:07:25 - eval_classification.py:  65]\tINFO\t正在预测中，已完成：9000, 完成率：35.8794%，移动平均速度是：12.6779 msec/img\n",
      "[2024-01-01 19:07:37 - eval_classification.py:  65]\tINFO\t正在预测中，已完成：10000, 完成率：39.8661%，移动平均速度是：12.5974 msec/img\n",
      "[2024-01-01 19:07:49 - eval_classification.py:  65]\tINFO\t正在预测中，已完成：11000, 完成率：43.8527%，移动平均速度是：12.5292 msec/img\n",
      "[2024-01-01 19:08:01 - eval_classification.py:  65]\tINFO\t正在预测中，已完成：12000, 完成率：47.8393%，移动平均速度是：12.4727 msec/img\n",
      "[2024-01-01 19:08:13 - eval_classification.py:  65]\tINFO\t正在预测中，已完成：13000, 完成率：51.8259%，移动平均速度是：12.4251 msec/img\n",
      "[2024-01-01 19:08:25 - eval_classification.py:  65]\tINFO\t正在预测中，已完成：14000, 完成率：55.8125%，移动平均速度是：12.3885 msec/img\n",
      "[2024-01-01 19:08:36 - eval_classification.py:  65]\tINFO\t正在预测中，已完成：15000, 完成率：59.7991%，移动平均速度是：12.3533 msec/img\n",
      "[2024-01-01 19:08:48 - eval_classification.py:  65]\tINFO\t正在预测中，已完成：16000, 完成率：63.7857%，移动平均速度是：12.3213 msec/img\n",
      "[2024-01-01 19:09:00 - eval_classification.py:  65]\tINFO\t正在预测中，已完成：17000, 完成率：67.7723%，移动平均速度是：12.3019 msec/img\n",
      "[2024-01-01 19:09:12 - eval_classification.py:  65]\tINFO\t正在预测中，已完成：18000, 完成率：71.7589%，移动平均速度是：12.2748 msec/img\n",
      "[2024-01-01 19:09:24 - eval_classification.py:  65]\tINFO\t正在预测中，已完成：19000, 完成率：75.7455%，移动平均速度是：12.2502 msec/img\n",
      "[2024-01-01 19:09:36 - eval_classification.py:  65]\tINFO\t正在预测中，已完成：20000, 完成率：79.7321%，移动平均速度是：12.2287 msec/img\n",
      "[2024-01-01 19:09:47 - eval_classification.py:  65]\tINFO\t正在预测中，已完成：21000, 完成率：83.7187%，移动平均速度是：12.2101 msec/img\n",
      "[2024-01-01 19:09:59 - eval_classification.py:  65]\tINFO\t正在预测中，已完成：22000, 完成率：87.7053%，移动平均速度是：12.1901 msec/img\n",
      "[2024-01-01 19:10:11 - eval_classification.py:  65]\tINFO\t正在预测中，已完成：23000, 完成率：91.6919%，移动平均速度是：12.1708 msec/img\n",
      "[2024-01-01 19:10:23 - eval_classification.py:  65]\tINFO\t正在预测中，已完成：24000, 完成率：95.6785%，移动平均速度是：12.1543 msec/img\n",
      "[2024-01-01 19:10:35 - eval_classification.py:  65]\tINFO\t正在预测中，已完成：25000, 完成率：99.6651%，移动平均速度是：12.1387 msec/img\n"
     ]
    }
   ],
   "source": [
    "import os\n",
    "import json\n",
    "import shutil\n",
    "from pathlib import Path\n",
    "import pandas as pd\n",
    "from onekey_algo.classification.eval_classification import init as clf_init\n",
    "from onekey_algo.classification.eval_classification import inference_dataloader as clf_inference\n",
    "\n",
    "POSSIBLE_IMG = ['.jpg']\n",
    "\n",
    "samples = pd.read_csv('data/path_info.csv')\n",
    "samples = list(samples['fpath'])\n",
    "\n",
    "config_path = r'F:\\20230608-XueYuHang\\Pathology\\models\\1\\resnet50\\viz'\n",
    "model, transformer, labels, device = clf_init(config_path=config_path)\n",
    "\n",
    "print(len(samples))\n",
    "results = clf_inference(samples, model, transformer, labels, device, batch_size=1, num_workers=2)\n",
    "log = []\n",
    "for fname, prob, label in results:\n",
    "    log.append([fname, f\"{json.loads(prob)[label]:.6f}\", label, 0])\n",
    "pd.DataFrame(log).to_csv('data/predictions.txt', sep='\\t', index=False, header=False)"
   ]
  },
  {
   "cell_type": "markdown",
   "id": "0b562499",
   "metadata": {},
   "source": [
    "# 预测肿瘤区域"
   ]
  },
  {
   "cell_type": "code",
   "execution_count": 1,
   "id": "266ce59b",
   "metadata": {
    "scrolled": true
   },
   "outputs": [
    {
     "data": {
      "text/plain": [
       "{'14-46174B1',\n",
       " '14-46927A1',\n",
       " '14-47278A5',\n",
       " '14-47869A4',\n",
       " '14-48047A6',\n",
       " '14-4822B4',\n",
       " '14-49166B1',\n",
       " '14-49281A1',\n",
       " '14-49849A1',\n",
       " '14-49850A2'}"
      ]
     },
     "execution_count": 1,
     "metadata": {},
     "output_type": "execute_result"
    }
   ],
   "source": [
    "import os\n",
    "\n",
    "set([f.split('.')[0] for f in os.listdir(r'E:\\20230904-LiuHui\\svs')]) - set(os.listdir(r'F:/20230904-LiuHui/drop_patches/'))"
   ]
  },
  {
   "cell_type": "code",
   "execution_count": 8,
   "id": "6eb41173",
   "metadata": {},
   "outputs": [],
   "source": [
    "import json\n",
    "os.makedirs(os.path.join(save_dir, 'viz'), exist_ok=True)\n",
    "with open(os.path.join(save_dir, 'viz', f\"{task}_prediction.txt\"), 'w') as f:\n",
    "    for fname, prob, label in results:\n",
    "        print(f\"{fname}\\t{eval(prob)[label]}\\t{label}\\t{1}\", file=f)"
   ]
  },
  {
   "cell_type": "code",
   "execution_count": null,
   "id": "8c46eaf7",
   "metadata": {},
   "outputs": [],
   "source": []
  }
 ],
 "metadata": {
  "kernelspec": {
   "display_name": "Python 3 (ipykernel)",
   "language": "python",
   "name": "python3"
  },
  "language_info": {
   "codemirror_mode": {
    "name": "ipython",
    "version": 3
   },
   "file_extension": ".py",
   "mimetype": "text/x-python",
   "name": "python",
   "nbconvert_exporter": "python",
   "pygments_lexer": "ipython3",
   "version": "3.7.12"
  }
 },
 "nbformat": 4,
 "nbformat_minor": 5
}
